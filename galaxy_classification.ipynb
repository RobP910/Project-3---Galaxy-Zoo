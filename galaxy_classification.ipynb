{
 "cells": [
  {
   "cell_type": "markdown",
   "id": "a00dde91-aa49-412a-98da-b346eab3e8d3",
   "metadata": {},
   "source": [
    "## Load Data"
   ]
  },
  {
   "cell_type": "code",
   "execution_count": 1,
   "id": "619a3667-acbb-47cb-b770-25a6719d11b5",
   "metadata": {},
   "outputs": [],
   "source": [
    "from sklearn.model_selection import train_test_split\n",
    "import datasets_util as du\n",
    "\n",
    "#train_catalog, _ = du.get_gz2(True)\n",
    "#test_catalog, _ = du.get_gz2(False)\n",
    "\n",
    "# pick a small amount of the full dataset, splitting for train/test\n",
    "full_catalog, _ = du.get_full_gz2()\n",
    "small_catalog = full_catalog.iloc[:50000,:]\n",
    "train_catalog, test_catalog = train_test_split(small_catalog, test_size=0.2, random_state=1)"
   ]
  },
  {
   "cell_type": "markdown",
   "id": "6480ab40-eb00-4dfe-8984-c591d8daf782",
   "metadata": {},
   "source": [
    "## Preprocess Data"
   ]
  },
  {
   "cell_type": "code",
   "execution_count": 2,
   "id": "335cc672-9192-4b0f-8f03-15047604a3f2",
   "metadata": {},
   "outputs": [],
   "source": [
    "import target_formatter as tgf\n",
    "\n",
    "# Get encodings of y data\n",
    "y_encoder = tgf.get_summary_encoder(train_catalog)\n",
    "y_train, y_test = tgf.get_train_test_summary_enc(y_encoder, train_catalog, test_catalog)"
   ]
  },
  {
   "cell_type": "code",
   "execution_count": 3,
   "id": "5a285ca0",
   "metadata": {},
   "outputs": [
    {
     "name": "stderr",
     "output_type": "stream",
     "text": [
      "WARNING:root:Resizing images from disk size 424 to requested size 224\n"
     ]
    },
    {
     "name": "stdout",
     "output_type": "stream",
     "text": [
      "WARNING:tensorflow:From c:\\Users\\rocke\\anaconda3\\envs\\dev\\lib\\site-packages\\tensorflow\\python\\autograph\\pyct\\static_analysis\\liveness.py:83: Analyzer.lamba_check (from tensorflow.python.autograph.pyct.static_analysis.liveness) is deprecated and will be removed after 2023-09-23.\n",
      "Instructions for updating:\n",
      "Lambda fuctions will be no more assumed to be used in the statement where they are used, or at least in the same block. https://github.com/tensorflow/tensorflow/issues/56089\n"
     ]
    },
    {
     "name": "stderr",
     "output_type": "stream",
     "text": [
      "WARNING:tensorflow:From c:\\Users\\rocke\\anaconda3\\envs\\dev\\lib\\site-packages\\tensorflow\\python\\autograph\\pyct\\static_analysis\\liveness.py:83: Analyzer.lamba_check (from tensorflow.python.autograph.pyct.static_analysis.liveness) is deprecated and will be removed after 2023-09-23.\n",
      "Instructions for updating:\n",
      "Lambda fuctions will be no more assumed to be used in the statement where they are used, or at least in the same block. https://github.com/tensorflow/tensorflow/issues/56089\n",
      "WARNING:root:Resizing images from disk size 424 to requested size 224\n"
     ]
    }
   ],
   "source": [
    "target_image_size = 224\n",
    "\n",
    "# create datasets from file paths & encoded y\n",
    "train_ds = du.get_dataset(train_catalog[\"file_loc\"], y_train, target_image_size)\n",
    "test_ds = du.get_dataset(test_catalog[\"file_loc\"], y_test, target_image_size)"
   ]
  },
  {
   "cell_type": "markdown",
   "id": "36d6aa6d-6969-4ff1-a408-d0528cbfb423",
   "metadata": {},
   "source": [
    "## Create CNN Model"
   ]
  },
  {
   "cell_type": "code",
   "execution_count": 4,
   "id": "93337a19-ab19-4646-b4f4-d7fd9c79ed0d",
   "metadata": {},
   "outputs": [
    {
     "name": "stdout",
     "output_type": "stream",
     "text": [
      "Model: \"sequential\"\n",
      "_________________________________________________________________\n",
      " Layer (type)                Output Shape              Param #   \n",
      "=================================================================\n",
      " conv2d (Conv2D)             (None, 222, 222, 32)      896       \n",
      "                                                                 \n",
      " max_pooling2d (MaxPooling2D  (None, 111, 111, 32)     0         \n",
      " )                                                               \n",
      "                                                                 \n",
      " conv2d_1 (Conv2D)           (None, 109, 109, 64)      18496     \n",
      "                                                                 \n",
      " max_pooling2d_1 (MaxPooling  (None, 54, 54, 64)       0         \n",
      " 2D)                                                             \n",
      "                                                                 \n",
      " conv2d_2 (Conv2D)           (None, 52, 52, 128)       73856     \n",
      "                                                                 \n",
      " max_pooling2d_2 (MaxPooling  (None, 26, 26, 128)      0         \n",
      " 2D)                                                             \n",
      "                                                                 \n",
      " conv2d_3 (Conv2D)           (None, 24, 24, 256)       295168    \n",
      "                                                                 \n",
      " max_pooling2d_3 (MaxPooling  (None, 12, 12, 256)      0         \n",
      " 2D)                                                             \n",
      "                                                                 \n",
      " flatten (Flatten)           (None, 36864)             0         \n",
      "                                                                 \n",
      " dense (Dense)               (None, 128)               4718720   \n",
      "                                                                 \n",
      " dropout (Dropout)           (None, 128)               0         \n",
      "                                                                 \n",
      " dense_1 (Dense)             (None, 128)               16512     \n",
      "                                                                 \n",
      " dropout_1 (Dropout)         (None, 128)               0         \n",
      "                                                                 \n",
      " dense_2 (Dense)             (None, 8)                 1032      \n",
      "                                                                 \n",
      "=================================================================\n",
      "Total params: 5,124,680\n",
      "Trainable params: 5,124,680\n",
      "Non-trainable params: 0\n",
      "_________________________________________________________________\n"
     ]
    }
   ],
   "source": [
    "# Import function from cnn_model.py\n",
    "from cnn_model import create_cnn_model\n",
    "\n",
    "# Define parameters\n",
    "input_shape = (target_image_size, target_image_size, 3)\n",
    "num_classes = y_train.shape[1]\n",
    "\n",
    "# Create CNN model\n",
    "model = create_cnn_model(input_shape, num_classes, c_layers=4, d_layers=2)\n",
    "\n",
    "# Display the model summary\n",
    "model.summary()"
   ]
  },
  {
   "cell_type": "markdown",
   "id": "d37b1498-97c7-4d63-84e8-105b4482a964",
   "metadata": {},
   "source": [
    "## Train Model"
   ]
  },
  {
   "cell_type": "code",
   "execution_count": 5,
   "id": "e570125a-6f91-4fdb-a770-f6e2f4afb424",
   "metadata": {},
   "outputs": [
    {
     "name": "stdout",
     "output_type": "stream",
     "text": [
      "Epoch 1/10\n",
      "313/313 [==============================] - 507s 2s/step - loss: 1.4951 - accuracy: 0.4033 - val_loss: 1.3999 - val_accuracy: 0.4742\n",
      "Epoch 2/10\n",
      "313/313 [==============================] - 496s 2s/step - loss: 1.2146 - accuracy: 0.5307 - val_loss: 1.0568 - val_accuracy: 0.5794\n",
      "Epoch 3/10\n",
      "313/313 [==============================] - 519s 2s/step - loss: 1.0214 - accuracy: 0.6266 - val_loss: 0.8709 - val_accuracy: 0.6824\n",
      "Epoch 4/10\n",
      "313/313 [==============================] - 507s 2s/step - loss: 0.8944 - accuracy: 0.6820 - val_loss: 0.8405 - val_accuracy: 0.6901\n",
      "Epoch 5/10\n",
      "313/313 [==============================] - 507s 2s/step - loss: 0.8317 - accuracy: 0.7053 - val_loss: 0.7693 - val_accuracy: 0.7169\n",
      "Epoch 6/10\n",
      "313/313 [==============================] - 505s 2s/step - loss: 0.7745 - accuracy: 0.7274 - val_loss: 0.7692 - val_accuracy: 0.7205\n",
      "Epoch 7/10\n",
      "313/313 [==============================] - 505s 2s/step - loss: 0.7327 - accuracy: 0.7424 - val_loss: 0.7696 - val_accuracy: 0.7270\n",
      "Epoch 8/10\n",
      "313/313 [==============================] - 504s 2s/step - loss: 0.6957 - accuracy: 0.7540 - val_loss: 0.8023 - val_accuracy: 0.7183\n",
      "Epoch 9/10\n",
      "313/313 [==============================] - 516s 2s/step - loss: 0.6550 - accuracy: 0.7656 - val_loss: 0.7638 - val_accuracy: 0.7293\n",
      "Epoch 10/10\n",
      "313/313 [==============================] - 534s 2s/step - loss: 0.6159 - accuracy: 0.7807 - val_loss: 0.7803 - val_accuracy: 0.7356\n"
     ]
    }
   ],
   "source": [
    "# Train the model\n",
    "history = model.fit(\n",
    "    train_ds,\n",
    "    validation_data=test_ds,\n",
    "    epochs=10,\n",
    ")"
   ]
  },
  {
   "cell_type": "markdown",
   "id": "78cf5551-dff9-4aa5-8561-bcda7df962bd",
   "metadata": {},
   "source": [
    "## Evaluate Model"
   ]
  },
  {
   "cell_type": "code",
   "execution_count": 6,
   "id": "3ebb08bd-7eb7-4238-b20c-c8c773f7b890",
   "metadata": {},
   "outputs": [
    {
     "data": {
      "image/png": "[encoded data removed]",
      "text/plain": [
       "<Figure size 640x480 with 1 Axes>"
      ]
     },
     "metadata": {},
     "output_type": "display_data"
    }
   ],
   "source": [
    "# Plot history\n",
    "import matplotlib.pyplot as plt\n",
    "\n",
    "plt.plot(history.history['accuracy'], label='accuracy')\n",
    "plt.plot(history.history['val_accuracy'], label = 'val_accuracy')\n",
    "plt.xlabel('Epoch')\n",
    "plt.ylabel('Accuracy')\n",
    "plt.ylim([0, 1])\n",
    "plt.legend(loc='lower right')\n",
    "plt.show()"
   ]
  },
  {
   "cell_type": "markdown",
   "id": "628ace38",
   "metadata": {},
   "source": [
    "## Saving Results"
   ]
  },
  {
   "cell_type": "code",
   "execution_count": 7,
   "id": "95a4fcc9",
   "metadata": {},
   "outputs": [],
   "source": [
    "model.save(\"galaxy_classification_model.keras\")"
   ]
  },
  {
   "cell_type": "code",
   "execution_count": 8,
   "id": "31c4dcca-910c-44be-b756-46d0f872981f",
   "metadata": {},
   "outputs": [],
   "source": [
    "import pandas as pd\n",
    "\n",
    "# save training history\n",
    "hist_df = pd.DataFrame(history.history)\n",
    "with open(\"galaxy_classification_training_history.csv\", mode=\"w\") as f:\n",
    "    hist_df.to_csv(f)"
   ]
  }
 ],
 "metadata": {
  "kernelspec": {
   "display_name": "Python 3 (ipykernel)",
   "language": "python",
   "name": "python3"
  },
  "language_info": {
   "codemirror_mode": {
    "name": "ipython",
    "version": 3
   },
   "file_extension": ".py",
   "mimetype": "text/x-python",
   "name": "python",
   "nbconvert_exporter": "python",
   "pygments_lexer": "ipython3",
   "version": "3.10.13"
  }
 },
 "nbformat": 4,
 "nbformat_minor": 5
}
