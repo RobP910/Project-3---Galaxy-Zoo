{
 "cells": [
  {
   "cell_type": "markdown",
   "id": "a00dde91-aa49-412a-98da-b346eab3e8d3",
   "metadata": {},
   "source": [
    "## Load Data"
   ]
  },
  {
   "cell_type": "code",
   "execution_count": 1,
   "id": "619a3667-acbb-47cb-b770-25a6719d11b5",
   "metadata": {},
   "outputs": [],
   "source": [
    "from sklearn.model_selection import train_test_split\n",
    "import datasets_util as du\n",
    "\n",
    "#train_catalog, _ = du.get_gz2(True)\n",
    "#test_catalog, _ = du.get_gz2(False)\n",
    "\n",
    "# pick a small amount of the full dataset, splitting for train/test\n",
    "full_catalog, _ = du.get_full_gz2()\n",
    "small_catalog = full_catalog.iloc[:10000,:]\n",
    "train_catalog, test_catalog = train_test_split(small_catalog, random_state=1)"
   ]
  },
  {
   "cell_type": "markdown",
   "id": "6480ab40-eb00-4dfe-8984-c591d8daf782",
   "metadata": {},
   "source": [
    "## Preprocess Data"
   ]
  },
  {
   "cell_type": "code",
   "execution_count": 2,
   "id": "335cc672-9192-4b0f-8f03-15047604a3f2",
   "metadata": {},
   "outputs": [],
   "source": [
    "import target_formatter as tgf\n",
    "\n",
    "# Get encodings of y data\n",
    "y_encoder = tgf.get_summary_encoder(train_catalog)\n",
    "y_train, y_test = tgf.get_train_test_summary_enc(y_encoder, train_catalog, test_catalog)"
   ]
  },
  {
   "cell_type": "code",
   "execution_count": 3,
   "id": "5a285ca0",
   "metadata": {},
   "outputs": [
    {
     "name": "stderr",
     "output_type": "stream",
     "text": [
      "WARNING:root:Resizing images from disk size 424 to requested size 224\n"
     ]
    },
    {
     "name": "stdout",
     "output_type": "stream",
     "text": [
      "WARNING:tensorflow:From c:\\Users\\rocke\\anaconda3\\envs\\dev\\lib\\site-packages\\tensorflow\\python\\autograph\\pyct\\static_analysis\\liveness.py:83: Analyzer.lamba_check (from tensorflow.python.autograph.pyct.static_analysis.liveness) is deprecated and will be removed after 2023-09-23.\n",
      "Instructions for updating:\n",
      "Lambda fuctions will be no more assumed to be used in the statement where they are used, or at least in the same block. https://github.com/tensorflow/tensorflow/issues/56089\n"
     ]
    },
    {
     "name": "stderr",
     "output_type": "stream",
     "text": [
      "WARNING:tensorflow:From c:\\Users\\rocke\\anaconda3\\envs\\dev\\lib\\site-packages\\tensorflow\\python\\autograph\\pyct\\static_analysis\\liveness.py:83: Analyzer.lamba_check (from tensorflow.python.autograph.pyct.static_analysis.liveness) is deprecated and will be removed after 2023-09-23.\n",
      "Instructions for updating:\n",
      "Lambda fuctions will be no more assumed to be used in the statement where they are used, or at least in the same block. https://github.com/tensorflow/tensorflow/issues/56089\n",
      "WARNING:root:Resizing images from disk size 424 to requested size 224\n"
     ]
    }
   ],
   "source": [
    "# create datasets from file paths & encoded y\n",
    "train_ds = du.get_dataset(train_catalog[\"file_loc\"], y_train, 224)\n",
    "test_ds = du.get_dataset(test_catalog[\"file_loc\"], y_test, 224)"
   ]
  },
  {
   "cell_type": "markdown",
   "id": "36d6aa6d-6969-4ff1-a408-d0528cbfb423",
   "metadata": {},
   "source": [
    "## Create CNN Model"
   ]
  },
  {
   "cell_type": "code",
   "execution_count": 4,
   "id": "93337a19-ab19-4646-b4f4-d7fd9c79ed0d",
   "metadata": {},
   "outputs": [
    {
     "name": "stdout",
     "output_type": "stream",
     "text": [
      "Model: \"sequential\"\n",
      "_________________________________________________________________\n",
      " Layer (type)                Output Shape              Param #   \n",
      "=================================================================\n",
      " conv2d (Conv2D)             (None, 222, 222, 32)      896       \n",
      "                                                                 \n",
      " max_pooling2d (MaxPooling2D  (None, 111, 111, 32)     0         \n",
      " )                                                               \n",
      "                                                                 \n",
      " conv2d_1 (Conv2D)           (None, 109, 109, 64)      18496     \n",
      "                                                                 \n",
      " max_pooling2d_1 (MaxPooling  (None, 54, 54, 64)       0         \n",
      " 2D)                                                             \n",
      "                                                                 \n",
      " conv2d_2 (Conv2D)           (None, 52, 52, 128)       73856     \n",
      "                                                                 \n",
      " max_pooling2d_2 (MaxPooling  (None, 26, 26, 128)      0         \n",
      " 2D)                                                             \n",
      "                                                                 \n",
      " flatten (Flatten)           (None, 86528)             0         \n",
      "                                                                 \n",
      " dense (Dense)               (None, 128)               11075712  \n",
      "                                                                 \n",
      " dropout (Dropout)           (None, 128)               0         \n",
      "                                                                 \n",
      " dense_1 (Dense)             (None, 8)                 1032      \n",
      "                                                                 \n",
      "=================================================================\n",
      "Total params: 11,169,992\n",
      "Trainable params: 11,169,992\n",
      "Non-trainable params: 0\n",
      "_________________________________________________________________\n"
     ]
    }
   ],
   "source": [
    "# Import function from cnn_model.py\n",
    "from cnn_model import create_cnn_model\n",
    "\n",
    "# Define parameters\n",
    "# TODO get input shape from dataset, or have parameter used here & in dataset creation\n",
    "input_shape = (224, 224, 3)\n",
    "# TODO dataset holds labels, can it provide the target size?\n",
    "num_classes = y_train.shape[1]\n",
    "\n",
    "# Create CNN model\n",
    "model = create_cnn_model(input_shape, num_classes)\n",
    "\n",
    "# Display the model summary\n",
    "model.summary()"
   ]
  },
  {
   "cell_type": "markdown",
   "id": "d37b1498-97c7-4d63-84e8-105b4482a964",
   "metadata": {},
   "source": [
    "## Train Model"
   ]
  },
  {
   "cell_type": "code",
   "execution_count": 5,
   "id": "e570125a-6f91-4fdb-a770-f6e2f4afb424",
   "metadata": {},
   "outputs": [
    {
     "name": "stdout",
     "output_type": "stream",
     "text": [
      "Epoch 1/10\n",
      "59/59 [==============================] - 80s 1s/step - loss: 1.6840 - accuracy: 0.3528 - val_loss: 1.5431 - val_accuracy: 0.3920\n",
      "Epoch 2/10\n",
      "59/59 [==============================] - 75s 1s/step - loss: 1.5058 - accuracy: 0.4099 - val_loss: 1.4468 - val_accuracy: 0.4536\n",
      "Epoch 3/10\n",
      "59/59 [==============================] - 80s 1s/step - loss: 1.3424 - accuracy: 0.4680 - val_loss: 1.2942 - val_accuracy: 0.4864\n",
      "Epoch 4/10\n",
      "59/59 [==============================] - 80s 1s/step - loss: 1.1757 - accuracy: 0.5437 - val_loss: 1.2782 - val_accuracy: 0.4816\n",
      "Epoch 5/10\n",
      "59/59 [==============================] - 78s 1s/step - loss: 1.0693 - accuracy: 0.5915 - val_loss: 1.3044 - val_accuracy: 0.4980\n",
      "Epoch 6/10\n",
      "59/59 [==============================] - 79s 1s/step - loss: 0.9557 - accuracy: 0.6228 - val_loss: 1.4706 - val_accuracy: 0.4700\n",
      "Epoch 7/10\n",
      "59/59 [==============================] - 77s 1s/step - loss: 0.8655 - accuracy: 0.6656 - val_loss: 1.5296 - val_accuracy: 0.4820\n",
      "Epoch 8/10\n",
      "59/59 [==============================] - 80s 1s/step - loss: 0.7730 - accuracy: 0.7013 - val_loss: 1.5766 - val_accuracy: 0.4876\n",
      "Epoch 9/10\n",
      "59/59 [==============================] - 78s 1s/step - loss: 0.7020 - accuracy: 0.7308 - val_loss: 1.7344 - val_accuracy: 0.4780\n",
      "Epoch 10/10\n",
      "59/59 [==============================] - 78s 1s/step - loss: 0.6125 - accuracy: 0.7600 - val_loss: 1.9453 - val_accuracy: 0.4932\n"
     ]
    }
   ],
   "source": [
    "# Train the model\n",
    "history = model.fit(\n",
    "    train_ds,\n",
    "    validation_data=test_ds,\n",
    "    epochs=10,\n",
    ")"
   ]
  },
  {
   "cell_type": "markdown",
   "id": "78cf5551-dff9-4aa5-8561-bcda7df962bd",
   "metadata": {},
   "source": [
    "## Evaluate Model"
   ]
  },
  {
   "cell_type": "code",
   "execution_count": 6,
   "id": "3ebb08bd-7eb7-4238-b20c-c8c773f7b890",
   "metadata": {},
   "outputs": [
    {
     "data": {
      "image/png": "[encoded data removed]",
      "text/plain": [
       "<Figure size 640x480 with 1 Axes>"
      ]
     },
     "metadata": {},
     "output_type": "display_data"
    }
   ],
   "source": [
    "# Plot history\n",
    "import matplotlib.pyplot as plt\n",
    "\n",
    "plt.plot(history.history['accuracy'], label='accuracy')\n",
    "plt.plot(history.history['val_accuracy'], label = 'val_accuracy')\n",
    "plt.xlabel('Epoch')\n",
    "plt.ylabel('Accuracy')\n",
    "plt.ylim([0, 1])\n",
    "plt.legend(loc='lower right')\n",
    "plt.show()"
   ]
  },
  {
   "cell_type": "code",
   "execution_count": null,
   "id": "31c4dcca-910c-44be-b756-46d0f872981f",
   "metadata": {},
   "outputs": [],
   "source": []
  },
  {
   "cell_type": "code",
   "execution_count": null,
   "id": "6d32b418-6c5d-4f67-8ddd-e9f9f87d87e8",
   "metadata": {},
   "outputs": [],
   "source": []
  }
 ],
 "metadata": {
  "kernelspec": {
   "display_name": "Python 3 (ipykernel)",
   "language": "python",
   "name": "python3"
  },
  "language_info": {
   "codemirror_mode": {
    "name": "ipython",
    "version": 3
   },
   "file_extension": ".py",
   "mimetype": "text/x-python",
   "name": "python",
   "nbconvert_exporter": "python",
   "pygments_lexer": "ipython3",
   "version": "3.10.13"
  }
 },
 "nbformat": 4,
 "nbformat_minor": 5
}
