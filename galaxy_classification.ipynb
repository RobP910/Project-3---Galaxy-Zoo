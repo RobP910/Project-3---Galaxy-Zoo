{
 "cells": [
  {
   "cell_type": "markdown",
   "id": "a00dde91-aa49-412a-98da-b346eab3e8d3",
   "metadata": {},
   "source": [
    "## Load Data"
   ]
  },
  {
   "cell_type": "code",
   "execution_count": null,
   "id": "619a3667-acbb-47cb-b770-25a6719d11b5",
   "metadata": {},
   "outputs": [],
   "source": [
    "# call module or whatever"
   ]
  },
  {
   "cell_type": "markdown",
   "id": "6480ab40-eb00-4dfe-8984-c591d8daf782",
   "metadata": {},
   "source": [
    "## Preprocess Data"
   ]
  },
  {
   "cell_type": "code",
   "execution_count": null,
   "id": "335cc672-9192-4b0f-8f03-15047604a3f2",
   "metadata": {},
   "outputs": [],
   "source": [
    "# Example from homework\n",
    "# Label encode the y data\n",
    "y_encoder = LabelEncoder().fit(y)\n",
    "y = y_encoder.transform(y)\n",
    "\n",
    "# Convert values to numpy arrays\n",
    "X = np.array(X)\n",
    "\n",
    "# Split the training dataset into training and validation sets\n",
    "from sklearn.model_selection import train_test_split\n",
    "\n",
    "X_train, X_test, y_train, y_test = train_test_split(X, y, test_size=0.2, random_state=1)"
   ]
  },
  {
   "cell_type": "markdown",
   "id": "36d6aa6d-6969-4ff1-a408-d0528cbfb423",
   "metadata": {},
   "source": [
    "## Create CNN Model"
   ]
  },
  {
   "cell_type": "code",
   "execution_count": null,
   "id": "93337a19-ab19-4646-b4f4-d7fd9c79ed0d",
   "metadata": {},
   "outputs": [],
   "source": [
    "# Import function from cnn_model.py\n",
    "from cnn_model import create_cnn_model\n",
    "\n",
    "# Define parameters\n",
    "input_shape = (128, 128, 3)\n",
    "num_classes = 2\n",
    "\n",
    "# Create CNN model\n",
    "model = create_cnn_model(input_shape, num_classes)\n",
    "\n",
    "# Display the model summary\n",
    "model.summary()"
   ]
  },
  {
   "cell_type": "markdown",
   "id": "d37b1498-97c7-4d63-84e8-105b4482a964",
   "metadata": {},
   "source": [
    "## Train Model"
   ]
  },
  {
   "cell_type": "code",
   "execution_count": null,
   "id": "e570125a-6f91-4fdb-a770-f6e2f4afb424",
   "metadata": {},
   "outputs": [],
   "source": [
    "# Example from homework\n",
    "# Train the model\n",
    "batch_size = 1000\n",
    "epochs = 100\n",
    "history = model.fit(\n",
    "    X_train, \n",
    "    y_train,\n",
    "    validation_data=(X_test, y_test),\n",
    "    epochs=epochs\n",
    ")"
   ]
  },
  {
   "cell_type": "markdown",
   "id": "78cf5551-dff9-4aa5-8561-bcda7df962bd",
   "metadata": {},
   "source": [
    "## Evaluate Model"
   ]
  },
  {
   "cell_type": "code",
   "execution_count": null,
   "id": "3ebb08bd-7eb7-4238-b20c-c8c773f7b890",
   "metadata": {},
   "outputs": [],
   "source": [
    "# Plot history\n",
    "import matplotlib.pyplot as plt\n",
    "\n",
    "plt.plot(history.history['accuracy'], label='accuracy')\n",
    "plt.plot(history.history['val_accuracy'], label = 'val_accuracy')\n",
    "plt.xlabel('Epoch')\n",
    "plt.ylabel('Accuracy')\n",
    "plt.ylim([0, 1])\n",
    "plt.legend(loc='lower right')\n",
    "plt.show()"
   ]
  },
  {
   "cell_type": "code",
   "execution_count": null,
   "id": "31c4dcca-910c-44be-b756-46d0f872981f",
   "metadata": {},
   "outputs": [],
   "source": []
  },
  {
   "cell_type": "code",
   "execution_count": null,
   "id": "6d32b418-6c5d-4f67-8ddd-e9f9f87d87e8",
   "metadata": {},
   "outputs": [],
   "source": []
  }
 ],
 "metadata": {
  "kernelspec": {
   "display_name": "Python 3 (ipykernel)",
   "language": "python",
   "name": "python3"
  },
  "language_info": {
   "codemirror_mode": {
    "name": "ipython",
    "version": 3
   },
   "file_extension": ".py",
   "mimetype": "text/x-python",
   "name": "python",
   "nbconvert_exporter": "python",
   "pygments_lexer": "ipython3",
   "version": "3.12.5"
  }
 },
 "nbformat": 4,
 "nbformat_minor": 5
}
