{
 "cells": [
  {
   "cell_type": "code",
   "execution_count": null,
   "id": "eab8757b-359f-41a9-a976-17bdd122234a",
   "metadata": {},
   "outputs": [],
   "source": []
  },
  {
   "cell_type": "code",
   "execution_count": null,
   "id": "619a3667-acbb-47cb-b770-25a6719d11b5",
   "metadata": {},
   "outputs": [],
   "source": []
  },
  {
   "cell_type": "code",
   "execution_count": null,
   "id": "7cbd6be4-68af-4648-beb3-380c332586de",
   "metadata": {},
   "outputs": [],
   "source": []
  },
  {
   "cell_type": "code",
   "execution_count": null,
   "id": "335cc672-9192-4b0f-8f03-15047604a3f2",
   "metadata": {},
   "outputs": [],
   "source": []
  },
  {
   "cell_type": "markdown",
   "id": "36d6aa6d-6969-4ff1-a408-d0528cbfb423",
   "metadata": {},
   "source": [
    "## Create CNN Model"
   ]
  },
  {
   "cell_type": "code",
   "execution_count": null,
   "id": "93337a19-ab19-4646-b4f4-d7fd9c79ed0d",
   "metadata": {},
   "outputs": [],
   "source": [
    "# Import function from cnn_model.py\n",
    "from cnn_model import create_cnn_model\n",
    "\n",
    "# Define parameters\n",
    "input_shape = (128, 128, 3)\n",
    "num_classes = 2\n",
    "\n",
    "# Create CNN model\n",
    "model = create_cnn_model(input_shape, num_classes)\n",
    "\n",
    "# Display the model summary\n",
    "model.summary()"
   ]
  }
 ],
 "metadata": {
  "kernelspec": {
   "display_name": "Python 3 (ipykernel)",
   "language": "python",
   "name": "python3"
  },
  "language_info": {
   "codemirror_mode": {
    "name": "ipython",
    "version": 3
   },
   "file_extension": ".py",
   "mimetype": "text/x-python",
   "name": "python",
   "nbconvert_exporter": "python",
   "pygments_lexer": "ipython3",
   "version": "3.12.5"
  }
 },
 "nbformat": 4,
 "nbformat_minor": 5
}
