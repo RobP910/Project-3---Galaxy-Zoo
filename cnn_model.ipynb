{
 "cells": [
  {
   "cell_type": "code",
   "execution_count": null,
   "id": "eab8757b-359f-41a9-a976-17bdd122234a",
   "metadata": {},
   "outputs": [],
   "source": [
    "import tensorflow as tf\n",
    "from tensorflow.keras import layers, models\n",
    "\n",
    "def create_cnn_model(input_shape, num_classes, c_layers, filters, d_layers, d_units, dropout_rate):\n",
    "    \"\"\"\n",
    "    Create CNN model for image classification.\n",
    "    \n",
    "    Parameters:\n",
    "    - input_shape: tuple, shape of the input images (height, width, channels)\n",
    "    - num_classes: int, number of classes for classification\n",
    "    - c_layers: int, number of convolutional layers (default = 3)\n",
    "    - filters: int, number of filters in the first convolutional layer (default = 32)\n",
    "    - d_layers: int, number of dense layers after convolutional layers (default = 1)\n",
    "    - d_units: int, number of units in each dense layer (default = 128)\n",
    "    - dropout_rate: float, dropout rate applied after dense layers (default = 0.5)\n",
    "    \n",
    "    Returns:\n",
    "    - model: tf.keras.Model, the CNN model\n",
    "    \"\"\"\n",
    "    \n",
    "    model = models.Sequential()\n",
    "    \n",
    "    # Add layers\n",
    "    for i in range(c_layers):\n",
    "        if i == 0:\n",
    "            model.add(layers.Conv2D(filters, (3, 3), activation='relu', input_shape=input_shape))\n",
    "        else:\n",
    "            model.add(layers.Conv2D(filters, (3, 3), activation='relu'))\n",
    "        model.add(layers.MaxPooling2D((2, 2))) # After each c_layer\n",
    "        filters *= 2  # Double filters with each additional layer\n",
    "\n",
    "    model.add(layers.Flatten())\n",
    "    \n",
    "    # Add dense layers\n",
    "    for _ in range(d_layers):\n",
    "        model.add(layers.Dense(d_units, activation='relu'))\n",
    "        model.add(layers.Dropout(dropout_rate))\n",
    "    \n",
    "    # Add output layer\n",
    "    model.add(layers.Dense(num_classes, activation='softmax'))\n",
    "    \n",
    "    # Compile model\n",
    "    model.compile(optimizer='adam',\n",
    "                  loss='categorical_crossentropy',\n",
    "                  metrics=['accuracy'])\n",
    "    \n",
    "    return model\n",
    "\n",
    "# Model summary\n",
    "model.summary()\n"
   ]
  }
 ],
 "metadata": {
  "kernelspec": {
   "display_name": "Python 3 (ipykernel)",
   "language": "python",
   "name": "python3"
  },
  "language_info": {
   "codemirror_mode": {
    "name": "ipython",
    "version": 3
   },
   "file_extension": ".py",
   "mimetype": "text/x-python",
   "name": "python",
   "nbconvert_exporter": "python",
   "pygments_lexer": "ipython3",
   "version": "3.12.5"
  }
 },
 "nbformat": 4,
 "nbformat_minor": 5
}
