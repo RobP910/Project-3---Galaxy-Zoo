{
 "cells": [
  {
   "cell_type": "code",
   "execution_count": 7,
   "id": "52a3b511-4d79-4cf9-bf2e-a9ff1e5bac03",
   "metadata": {},
   "outputs": [],
   "source": [
    "from datasets_util import get_demo_rings, download_resources\n",
    "import pandas as pd\n",
    "import matplotlib.pyplot as plt"
   ]
  },
  {
   "cell_type": "code",
   "execution_count": 9,
   "id": "4b994fed-84bc-4651-8b36-d068b9d22805",
   "metadata": {},
   "outputs": [
    {
     "name": "stdout",
     "output_type": "stream",
     "text": [
      "Downloading https://dl.dropboxusercontent.com/s/4cfb9xbnlkvbkv1/demo_rings_train_catalog.parquet to Resources\\demo_rings\\demo_rings_train_catalog.parquet\n"
     ]
    },
    {
     "name": "stderr",
     "output_type": "stream",
     "text": [
      "100%|██████████| 30797/30797 [00:00<00:00, 2006835.60it/s]\n"
     ]
    },
    {
     "name": "stdout",
     "output_type": "stream",
     "text": [
      "Downloading https://dl.dropboxusercontent.com/s/xghqujm41ujjlko/demo_rings_test_catalog.parquet to Resources\\demo_rings\\demo_rings_test_catalog.parquet\n"
     ]
    },
    {
     "name": "stderr",
     "output_type": "stream",
     "text": [
      "100%|██████████| 10802/10802 [00:00<00:00, 10797633.89it/s]\n"
     ]
    },
    {
     "name": "stdout",
     "output_type": "stream",
     "text": [
      "Downloading https://dl.dropboxusercontent.com/s/80s5j6dygtw0gu6/demo_rings_images.tar.gz to Resources\\demo_rings\\demo_rings_images.tar.gz\n"
     ]
    },
    {
     "name": "stderr",
     "output_type": "stream",
     "text": [
      "100%|██████████| 43446358/43446358 [01:28<00:00, 488954.22it/s] \n"
     ]
    },
    {
     "name": "stdout",
     "output_type": "stream",
     "text": [
      "Extracting Resources\\demo_rings\\demo_rings_images.tar.gz to Resources\\demo_rings\n"
     ]
    }
   ],
   "source": [
    "# download from datasets_util file\n",
    "download_resources()"
   ]
  },
  {
   "cell_type": "code",
   "execution_count": 18,
   "id": "3e6cc398-c960-483b-82aa-d2403373e461",
   "metadata": {},
   "outputs": [],
   "source": [
    "# load dataset using get_demo_rings\n",
    "df, label_columns = get_demo_rings(train=False)"
   ]
  },
  {
   "cell_type": "code",
   "execution_count": 19,
   "id": "87a73c0a-49d3-472a-b9f9-ad30bf8ae858",
   "metadata": {},
   "outputs": [
    {
     "data": {
      "text/html": [
       "<div>\n",
       "<style scoped>\n",
       "    .dataframe tbody tr th:only-of-type {\n",
       "        vertical-align: middle;\n",
       "    }\n",
       "\n",
       "    .dataframe tbody tr th {\n",
       "        vertical-align: top;\n",
       "    }\n",
       "\n",
       "    .dataframe thead th {\n",
       "        text-align: right;\n",
       "    }\n",
       "</style>\n",
       "<table border=\"1\" class=\"dataframe\">\n",
       "  <thead>\n",
       "    <tr style=\"text-align: right;\">\n",
       "      <th></th>\n",
       "      <th>id_str</th>\n",
       "      <th>ring_fraction</th>\n",
       "      <th>subfolder</th>\n",
       "      <th>filename</th>\n",
       "      <th>ring</th>\n",
       "      <th>file_loc</th>\n",
       "    </tr>\n",
       "  </thead>\n",
       "  <tbody>\n",
       "    <tr>\n",
       "      <th>0</th>\n",
       "      <td>453526_3245</td>\n",
       "      <td>0.636364</td>\n",
       "      <td>453526</td>\n",
       "      <td>453526_3245.jpg</td>\n",
       "      <td>True</td>\n",
       "      <td>Resources\\demo_rings\\images\\453526\\453526_3245...</td>\n",
       "    </tr>\n",
       "    <tr>\n",
       "      <th>1</th>\n",
       "      <td>127202_5277</td>\n",
       "      <td>0.642857</td>\n",
       "      <td>127202</td>\n",
       "      <td>127202_5277.jpg</td>\n",
       "      <td>True</td>\n",
       "      <td>Resources\\demo_rings\\images\\127202\\127202_5277...</td>\n",
       "    </tr>\n",
       "    <tr>\n",
       "      <th>2</th>\n",
       "      <td>469597_327</td>\n",
       "      <td>0.200000</td>\n",
       "      <td>469597</td>\n",
       "      <td>469597_327.jpg</td>\n",
       "      <td>False</td>\n",
       "      <td>Resources\\demo_rings\\images\\469597\\469597_327.jpg</td>\n",
       "    </tr>\n",
       "    <tr>\n",
       "      <th>3</th>\n",
       "      <td>433105_1762</td>\n",
       "      <td>0.200000</td>\n",
       "      <td>433105</td>\n",
       "      <td>433105_1762.jpg</td>\n",
       "      <td>False</td>\n",
       "      <td>Resources\\demo_rings\\images\\433105\\433105_1762...</td>\n",
       "    </tr>\n",
       "    <tr>\n",
       "      <th>4</th>\n",
       "      <td>52497_3109</td>\n",
       "      <td>0.750000</td>\n",
       "      <td>52497</td>\n",
       "      <td>52497_3109.jpg</td>\n",
       "      <td>True</td>\n",
       "      <td>Resources\\demo_rings\\images\\52497\\52497_3109.jpg</td>\n",
       "    </tr>\n",
       "  </tbody>\n",
       "</table>\n",
       "</div>"
      ],
      "text/plain": [
       "        id_str  ring_fraction subfolder         filename   ring  \\\n",
       "0  453526_3245       0.636364    453526  453526_3245.jpg   True   \n",
       "1  127202_5277       0.642857    127202  127202_5277.jpg   True   \n",
       "2   469597_327       0.200000    469597   469597_327.jpg  False   \n",
       "3  433105_1762       0.200000    433105  433105_1762.jpg  False   \n",
       "4   52497_3109       0.750000     52497   52497_3109.jpg   True   \n",
       "\n",
       "                                            file_loc  \n",
       "0  Resources\\demo_rings\\images\\453526\\453526_3245...  \n",
       "1  Resources\\demo_rings\\images\\127202\\127202_5277...  \n",
       "2  Resources\\demo_rings\\images\\469597\\469597_327.jpg  \n",
       "3  Resources\\demo_rings\\images\\433105\\433105_1762...  \n",
       "4   Resources\\demo_rings\\images\\52497\\52497_3109.jpg  "
      ]
     },
     "execution_count": 19,
     "metadata": {},
     "output_type": "execute_result"
    }
   ],
   "source": [
    "# display first 5 rows\n",
    "df.head()"
   ]
  },
  {
   "cell_type": "code",
   "execution_count": 23,
   "id": "7d700d7d-9508-45da-8277-38e8cf2de437",
   "metadata": {},
   "outputs": [
    {
     "data": {
      "text/plain": [
       "id_str           0\n",
       "ring_fraction    0\n",
       "subfolder        0\n",
       "filename         0\n",
       "ring             0\n",
       "file_loc         0\n",
       "dtype: int64"
      ]
     },
     "execution_count": 23,
     "metadata": {},
     "output_type": "execute_result"
    }
   ],
   "source": [
    "# check for missing values\n",
    "df.isnull().sum()"
   ]
  },
  {
   "cell_type": "code",
   "execution_count": 25,
   "id": "fecaaf4e-365c-4d8a-bc33-13801afdae11",
   "metadata": {},
   "outputs": [
    {
     "data": {
      "text/plain": [
       "id_str            object\n",
       "ring_fraction    float64\n",
       "subfolder         object\n",
       "filename          object\n",
       "ring                bool\n",
       "file_loc          object\n",
       "dtype: object"
      ]
     },
     "execution_count": 25,
     "metadata": {},
     "output_type": "execute_result"
    }
   ],
   "source": [
    "# check data types\n",
    "df.dtypes"
   ]
  },
  {
   "cell_type": "code",
   "execution_count": null,
   "id": "76078051-cb1c-449a-a3c5-e0dd0a1095f3",
   "metadata": {},
   "outputs": [],
   "source": []
  }
 ],
 "metadata": {
  "kernelspec": {
   "display_name": "Python 3 (ipykernel)",
   "language": "python",
   "name": "python3"
  },
  "language_info": {
   "codemirror_mode": {
    "name": "ipython",
    "version": 3
   },
   "file_extension": ".py",
   "mimetype": "text/x-python",
   "name": "python",
   "nbconvert_exporter": "python",
   "pygments_lexer": "ipython3",
   "version": "3.12.0"
  }
 },
 "nbformat": 4,
 "nbformat_minor": 5
}
